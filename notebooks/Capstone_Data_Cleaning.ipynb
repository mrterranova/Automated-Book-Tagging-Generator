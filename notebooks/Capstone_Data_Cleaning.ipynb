{
 "cells": [
  {
   "cell_type": "code",
   "execution_count": 986,
   "id": "6d7b9c8d-13e4-4718-946d-6502f3c5c883",
   "metadata": {},
   "outputs": [
    {
     "name": "stdout",
     "output_type": "stream",
     "text": [
      "Requirement already satisfied: requests in /opt/anaconda3/lib/python3.12/site-packages (2.32.3)\n",
      "Requirement already satisfied: charset-normalizer<4,>=2 in /opt/anaconda3/lib/python3.12/site-packages (from requests) (3.3.2)\n",
      "Requirement already satisfied: idna<4,>=2.5 in /opt/anaconda3/lib/python3.12/site-packages (from requests) (3.7)\n",
      "Requirement already satisfied: urllib3<3,>=1.21.1 in /opt/anaconda3/lib/python3.12/site-packages (from requests) (2.2.3)\n",
      "Requirement already satisfied: certifi>=2017.4.17 in /opt/anaconda3/lib/python3.12/site-packages (from requests) (2025.1.31)\n",
      "Note: you may need to restart the kernel to use updated packages.\n"
     ]
    }
   ],
   "source": [
    "pip install requests"
   ]
  },
  {
   "cell_type": "code",
   "execution_count": 1030,
   "id": "9d210356-896a-49f9-8f7c-1fab11cee3bd",
   "metadata": {},
   "outputs": [],
   "source": [
    "# Manage imports\n",
    "import requests\n",
    "import pandas as pd\n",
    "import re\n",
    "import ast"
   ]
  },
  {
   "cell_type": "code",
   "execution_count": 1032,
   "id": "1087b028-7208-421a-8854-8af47b5382f1",
   "metadata": {},
   "outputs": [
    {
     "name": "stdout",
     "output_type": "stream",
     "text": [
      "Total books: 0\n",
      "429 https://www.googleapis.com/books/v1/volumes?q=subject%3Apolitics&maxResults=40&startIndex=0\n",
      "{'code': 429, 'message': \"Quota exceeded for quota metric 'Queries' and limit 'Queries per day' of service 'books.googleapis.com' for consumer 'project_number:624717413613'.\", 'errors': [{'message': \"Quota exceeded for quota metric 'Queries' and limit 'Queries per day' of service 'books.googleapis.com' for consumer 'project_number:624717413613'.\", 'domain': 'global', 'reason': 'rateLimitExceeded'}], 'status': 'RESOURCE_EXHAUSTED', 'details': [{'@type': 'type.googleapis.com/google.rpc.ErrorInfo', 'reason': 'RATE_LIMIT_EXCEEDED', 'domain': 'googleapis.com', 'metadata': {'quota_limit_value': '20000000', 'quota_unit': '1/d/{project}', 'quota_limit': 'defaultPerDayPerProject', 'quota_metric': 'books.googleapis.com/default', 'consumer': 'projects/624717413613', 'service': 'books.googleapis.com', 'quota_location': 'global'}}, {'@type': 'type.googleapis.com/google.rpc.Help', 'links': [{'description': 'Request a higher quota limit.', 'url': 'https://cloud.google.com/docs/quotas/help/request_increase'}]}]}\n"
     ]
    }
   ],
   "source": [
    "# Google API - Resource #1\n",
    "category = \"politics\"\n",
    "# law, mythology, lore, magic, neuroscience, sustainability, climate change, innovation, data, internet, blockchain\n",
    "# cryptocurrency, money, social media, media, communication, agriculture, diy, cooking, food, gardening, crafts,\n",
    "# photography, survival, travel, transportation, aviation, agriculture, farming, essays, health, fitness, nutrition,\n",
    "# mental health, meditation, yoga, exercise, diet, ecology, genetics, oceanography, meteorology, Historical Romance, \n",
    "# noir, contemporary romance, contemporary fiction, western, business, management, marketing, finance, accounting, \n",
    "# entrepreneurship, leadership, investing, sales, Paranormal Romance, Romantic Suspense, data science, artificial intelligence\n",
    "# machine learning, programming, software engineering, robotics, web development, networking, cybersecurity, electronics,\n",
    "# electrical engineering, mechanical engineering, cultural studies, geography, archaeology, sociology\n",
    "\n",
    "books = []\n",
    "\n",
    "max_results = 40\n",
    "start_index = 0\n",
    "\n",
    "while True:\n",
    "    params = {\n",
    "        \"q\": f\"subject:{category}\",\n",
    "        \"maxResults\": max_results,\n",
    "        \"startIndex\": start_index\n",
    "    }\n",
    "    \n",
    "    response = requests.get(\"https://www.googleapis.com/books/v1/volumes\", params=params)\n",
    "    data = response.json()\n",
    "    \n",
    "    items = data.get(\"items\", [])\n",
    "    if not items:\n",
    "        break  # no more books, exit loop\n",
    "    \n",
    "    for item in items:\n",
    "        volume = item.get(\"volumeInfo\", {})\n",
    "        search_info = item.get(\"searchInfo\", {})\n",
    "        book_info = {\n",
    "            \"title\": volume.get(\"title\", \"N/A\"),\n",
    "            \"authors\": volume.get(\"authors\", []),\n",
    "            \"publishedDate\": volume.get(\"publishedDate\", \"N/A\"),\n",
    "            \"categories\": volume.get(\"categories\", []),\n",
    "            \"description\": volume.get(\"description\", \"N/A\"),\n",
    "            \"averageRating\": volume.get(\"averageRating\", \"N/A\"),\n",
    "            \"textSnippet\": search_info.get(\"textSnippet\", \"N/A\"),\n",
    "            \"language\": volume.get(\"language\", \"N/A\"),\n",
    "        }\n",
    "        books.append(book_info)\n",
    "    \n",
    "    # increment start_index to get the next page\n",
    "    start_index += max_results\n",
    "\n",
    "print(f\"Total books: {len(books)}\")\n",
    "print(response.status_code, response.url)\n",
    "if \"error\" in data:\n",
    "    print(data[\"error\"])"
   ]
  },
  {
   "cell_type": "code",
   "execution_count": 1014,
   "id": "cc5252b6-7f14-4758-8236-f32cbed8b264",
   "metadata": {},
   "outputs": [
    {
     "name": "stdout",
     "output_type": "stream",
     "text": [
      "Saved file: politics.csv\n"
     ]
    }
   ],
   "source": [
    "df = pd.DataFrame(books)\n",
    "df.to_csv(f\"{category}.csv\", index=False)\n",
    "print(f\"Saved file: {category}.csv\")"
   ]
  },
  {
   "cell_type": "code",
   "execution_count": 1016,
   "id": "400fdfe1-a011-4aab-a061-6600616b5398",
   "metadata": {},
   "outputs": [
    {
     "data": {
      "text/plain": [
       "14261"
      ]
     },
     "execution_count": 1016,
     "metadata": {},
     "output_type": "execute_result"
    }
   ],
   "source": [
    "# load all csv files\n",
    "files = [\"fashion.csv\", \"action.csv\", \"adult.csv\", \"adventure.csv\", \"ancient.csv\", \"architecture.csv\", \"art history.csv\",\n",
    "    \"autobiography.csv\",\"art.csv\", \"biology.csv\",\"chemistry.csv\",\"children.csv\",\"civil.csv\",\"classic.csv\",\n",
    "    \"car.csv\",\"computer.csv\",\"engineer.csv\",\"fiction.csv\",\"game.csv\",\"geology.csv\",\"english.csv\",\"government.csv\",\n",
    "    \"history.csv\",\"humanity.csv\",\"information.csv\",\"marriage.csv\",\"men.csv\",\"nonfiction.csv\",\"organizing.csv\",\n",
    "    \"painting.csv\",\"parent.csv\",\"personality.csv\",\"physics.csv\",\"poetry.csv\",\"popular.csv\",\"psychology.csv\",\n",
    "    \"romance.csv\",\"science fiction.csv\",\"science.csv\",\"secret.csv\",\"self help.csv\",\"sociology.csv\",\"spy.csv\",\n",
    "    \"study.csv\",\"theater.csv\",\"war.csv\",\"women.csv\",\"writing.csv\",\"world.csv\", \"religion.csv\", \"map.csv\", \n",
    "    \"building.csv\", \"pets.csv\", \"weight.csv\", \"attitude.csv\", \"review.csv\", \"house.csv\", \"home.csv\", \"math.csv\",\n",
    "    \"calculus.csv\", \"trigonometry.csv\", \"sleep.csv\", \"democracy.csv\", \"american history.csv\", \"american.csv\", \"easy.csv\",\n",
    "    \"fiction mystery.csv\", \"fiction historical.csv\", \"fiction romance.csv\", \"fantasy.csv\", \"Utopian.csv\", \"crime.csv\",\n",
    "    \"Mystery.csv\", \"dream.csv\", \"microsoft.csv\", \"animation.csv\", \"technology.csv\", \"horror.csv\", \"thriller.csv\", \"suspense.csv\",\n",
    "    \"satire.csv\", \"astronomy.csv\", \"astrology.csv\", \"humor.csv\", \"family.csv\", \"empire.csv\", \"kingdoms.csv\", \"space.csv\",\n",
    "    \"anatomy.csv\", \"drawing.csv\", \"comic.csv\", \"graphic novel.csv\", \"economy.csv\", \"teen fiction.csv\", \"dystopia.csv\", \"script.csv\",\n",
    "    \"animals.csv\", \"literature.csv\", \"instruction.csv\", \"mechanics.csv\", \"medicine.csv\", \"zoology.csv\", \"microbiology.csv\",\n",
    "    \"geology.csv\", \"graphic design.csv\"]\n",
    "\n",
    "df = pd.concat((pd.read_csv(f) for f in files), ignore_index=True)\n",
    "len(df)"
   ]
  },
  {
   "cell_type": "code",
   "execution_count": 1018,
   "id": "dbf8dc47-b110-4d77-bf83-ab3c90784246",
   "metadata": {},
   "outputs": [
    {
     "name": "stdout",
     "output_type": "stream",
     "text": [
      "Saved file: final_df.csv\n"
     ]
    }
   ],
   "source": [
    "# Save everything to one final file\n",
    "df.to_csv(\"total_df.csv\", index=False)\n",
    "print(f\"Saved file: total_df.csv\")"
   ]
  },
  {
   "cell_type": "code",
   "execution_count": 1084,
   "id": "5321f8be-26e8-4d73-8b76-94bc8a7acf8d",
   "metadata": {},
   "outputs": [
    {
     "data": {
      "text/html": [
       "<div>\n",
       "<style scoped>\n",
       "    .dataframe tbody tr th:only-of-type {\n",
       "        vertical-align: middle;\n",
       "    }\n",
       "\n",
       "    .dataframe tbody tr th {\n",
       "        vertical-align: top;\n",
       "    }\n",
       "\n",
       "    .dataframe thead th {\n",
       "        text-align: right;\n",
       "    }\n",
       "</style>\n",
       "<table border=\"1\" class=\"dataframe\">\n",
       "  <thead>\n",
       "    <tr style=\"text-align: right;\">\n",
       "      <th></th>\n",
       "      <th>isbn13</th>\n",
       "      <th>isbn10</th>\n",
       "      <th>title</th>\n",
       "      <th>subtitle</th>\n",
       "      <th>authors</th>\n",
       "      <th>categories</th>\n",
       "      <th>thumbnail</th>\n",
       "      <th>description</th>\n",
       "      <th>published_year</th>\n",
       "      <th>average_rating</th>\n",
       "      <th>num_pages</th>\n",
       "      <th>ratings_count</th>\n",
       "    </tr>\n",
       "  </thead>\n",
       "  <tbody>\n",
       "    <tr>\n",
       "      <th>0</th>\n",
       "      <td>9780002005883</td>\n",
       "      <td>0002005883</td>\n",
       "      <td>Gilead</td>\n",
       "      <td>NaN</td>\n",
       "      <td>Marilynne Robinson</td>\n",
       "      <td>Fiction</td>\n",
       "      <td>http://books.google.com/books/content?id=KQZCP...</td>\n",
       "      <td>A NOVEL THAT READERS and critics have been eag...</td>\n",
       "      <td>2004.0</td>\n",
       "      <td>3.85</td>\n",
       "      <td>247.0</td>\n",
       "      <td>361.0</td>\n",
       "    </tr>\n",
       "    <tr>\n",
       "      <th>1</th>\n",
       "      <td>9780002261982</td>\n",
       "      <td>0002261987</td>\n",
       "      <td>Spider's Web</td>\n",
       "      <td>A Novel</td>\n",
       "      <td>Charles Osborne;Agatha Christie</td>\n",
       "      <td>Detective and mystery stories</td>\n",
       "      <td>http://books.google.com/books/content?id=gA5GP...</td>\n",
       "      <td>A new 'Christie for Christmas' -- a full-lengt...</td>\n",
       "      <td>2000.0</td>\n",
       "      <td>3.83</td>\n",
       "      <td>241.0</td>\n",
       "      <td>5164.0</td>\n",
       "    </tr>\n",
       "    <tr>\n",
       "      <th>2</th>\n",
       "      <td>9780006163831</td>\n",
       "      <td>0006163831</td>\n",
       "      <td>The One Tree</td>\n",
       "      <td>NaN</td>\n",
       "      <td>Stephen R. Donaldson</td>\n",
       "      <td>American fiction</td>\n",
       "      <td>http://books.google.com/books/content?id=OmQaw...</td>\n",
       "      <td>Volume Two of Stephen Donaldson's acclaimed se...</td>\n",
       "      <td>1982.0</td>\n",
       "      <td>3.97</td>\n",
       "      <td>479.0</td>\n",
       "      <td>172.0</td>\n",
       "    </tr>\n",
       "    <tr>\n",
       "      <th>3</th>\n",
       "      <td>9780006178736</td>\n",
       "      <td>0006178731</td>\n",
       "      <td>Rage of angels</td>\n",
       "      <td>NaN</td>\n",
       "      <td>Sidney Sheldon</td>\n",
       "      <td>Fiction</td>\n",
       "      <td>http://books.google.com/books/content?id=FKo2T...</td>\n",
       "      <td>A memorable, mesmerizing heroine Jennifer -- b...</td>\n",
       "      <td>1993.0</td>\n",
       "      <td>3.93</td>\n",
       "      <td>512.0</td>\n",
       "      <td>29532.0</td>\n",
       "    </tr>\n",
       "    <tr>\n",
       "      <th>4</th>\n",
       "      <td>9780006280897</td>\n",
       "      <td>0006280897</td>\n",
       "      <td>The Four Loves</td>\n",
       "      <td>NaN</td>\n",
       "      <td>Clive Staples Lewis</td>\n",
       "      <td>Christian life</td>\n",
       "      <td>http://books.google.com/books/content?id=XhQ5X...</td>\n",
       "      <td>Lewis' work on the nature of love divides love...</td>\n",
       "      <td>2002.0</td>\n",
       "      <td>4.15</td>\n",
       "      <td>170.0</td>\n",
       "      <td>33684.0</td>\n",
       "    </tr>\n",
       "  </tbody>\n",
       "</table>\n",
       "</div>"
      ],
      "text/plain": [
       "          isbn13      isbn10           title subtitle  \\\n",
       "0  9780002005883  0002005883          Gilead      NaN   \n",
       "1  9780002261982  0002261987    Spider's Web  A Novel   \n",
       "2  9780006163831  0006163831    The One Tree      NaN   \n",
       "3  9780006178736  0006178731  Rage of angels      NaN   \n",
       "4  9780006280897  0006280897  The Four Loves      NaN   \n",
       "\n",
       "                           authors                     categories  \\\n",
       "0               Marilynne Robinson                        Fiction   \n",
       "1  Charles Osborne;Agatha Christie  Detective and mystery stories   \n",
       "2             Stephen R. Donaldson               American fiction   \n",
       "3                   Sidney Sheldon                        Fiction   \n",
       "4              Clive Staples Lewis                 Christian life   \n",
       "\n",
       "                                           thumbnail  \\\n",
       "0  http://books.google.com/books/content?id=KQZCP...   \n",
       "1  http://books.google.com/books/content?id=gA5GP...   \n",
       "2  http://books.google.com/books/content?id=OmQaw...   \n",
       "3  http://books.google.com/books/content?id=FKo2T...   \n",
       "4  http://books.google.com/books/content?id=XhQ5X...   \n",
       "\n",
       "                                         description  published_year  \\\n",
       "0  A NOVEL THAT READERS and critics have been eag...          2004.0   \n",
       "1  A new 'Christie for Christmas' -- a full-lengt...          2000.0   \n",
       "2  Volume Two of Stephen Donaldson's acclaimed se...          1982.0   \n",
       "3  A memorable, mesmerizing heroine Jennifer -- b...          1993.0   \n",
       "4  Lewis' work on the nature of love divides love...          2002.0   \n",
       "\n",
       "   average_rating  num_pages  ratings_count  \n",
       "0            3.85      247.0          361.0  \n",
       "1            3.83      241.0         5164.0  \n",
       "2            3.97      479.0          172.0  \n",
       "3            3.93      512.0        29532.0  \n",
       "4            4.15      170.0        33684.0  "
      ]
     },
     "execution_count": 1084,
     "metadata": {},
     "output_type": "execute_result"
    }
   ],
   "source": [
    "# Kaggle Dataset (https://www.kaggle.com/datasets/abdallahwagih/books-dataset) - Resource #2\n",
    "df_2 = pd.read_csv(\"Books_Dataset_Abdallah_Wagih_Ibrahim.csv\")\n",
    "df_2.head()"
   ]
  },
  {
   "cell_type": "code",
   "execution_count": 1166,
   "id": "f6e5e61f-846b-4d97-9d6a-b89549754474",
   "metadata": {},
   "outputs": [
    {
     "name": "stdout",
     "output_type": "stream",
     "text": [
      "                title                              authors  \\\n",
      "0     Operette Morali               [['Giacomo Leopardi']]   \n",
      "1     Feeding the Eye                 [['Anne Hollander']]   \n",
      "2  Système de la mode                 [['Roland Barthes']]   \n",
      "3  The Fashion System                 [['Roland Barthes']]   \n",
      "4   Consuming Fashion  [['Anne Brydon', 'Sandra Niessen']]   \n",
      "\n",
      "                   categories  \\\n",
      "0  [['Literary Collections']]   \n",
      "1                   [['Art']]   \n",
      "2    [['Clothing and dress']]   \n",
      "3                [['Design']]   \n",
      "4                [['Design']]   \n",
      "\n",
      "                                         description  \n",
      "0  This series is conceived as a library of bilin...  \n",
      "1  \"Only a learned and daring intelligence could ...  \n",
      "2  Ce livre, devenu un classique, est un des exem...  \n",
      "3               On semiotics, fashion and philosophy  \n",
      "4  Drawing on ethnographic knowledge to connect t...  \n"
     ]
    }
   ],
   "source": [
    "# Function to convert any value to list or default\n",
    "def to_list_or_na(x):\n",
    "    if pd.isnull(x):\n",
    "        return [\"N/A\"]\n",
    "    elif isinstance(x, list):\n",
    "        return x\n",
    "    else:\n",
    "        # If string, split by comma\n",
    "        return [a.strip() for a in str(x).split(\",\")]\n",
    "\n",
    "# Map and fill missing values\n",
    "df_2 = pd.DataFrame({\n",
    "    \"title\": df.get(\"title\", \"N/A\").fillna(\"N/A\"),\n",
    "    \"authors\": df.get(\"authors\").apply(to_list_or_na),\n",
    "    \"categories\": df.get(\"categories\").apply(to_list_or_na),\n",
    "    \"description\": df.get(\"description\", \"N/A\").fillna(\"N/A\"),\n",
    "})\n",
    "\n",
    "# Preview\n",
    "print(df_2.head())"
   ]
  },
  {
   "cell_type": "code",
   "execution_count": 1168,
   "id": "4de000c8-3228-4adc-ace5-01e72edb0797",
   "metadata": {},
   "outputs": [
    {
     "name": "stdout",
     "output_type": "stream",
     "text": [
      "                title                            authors publishedDate  \\\n",
      "0     Operette Morali               ['Giacomo Leopardi']    1983-12-09   \n",
      "1     Feeding the Eye                 ['Anne Hollander']    2000-10-02   \n",
      "2  Système de la mode                 ['Roland Barthes']          1983   \n",
      "3  The Fashion System                 ['Roland Barthes']    1990-07-25   \n",
      "4   Consuming Fashion  ['Anne Brydon', 'Sandra Niessen']       1998-09   \n",
      "\n",
      "                 categories  \\\n",
      "0  ['Literary Collections']   \n",
      "1                   ['Art']   \n",
      "2    ['Clothing and dress']   \n",
      "3                ['Design']   \n",
      "4                ['Design']   \n",
      "\n",
      "                                         description averageRating textSnippet  \n",
      "0  This series is conceived as a library of bilin...           N/A         N/A  \n",
      "1  \"Only a learned and daring intelligence could ...           N/A         N/A  \n",
      "2  Ce livre, devenu un classique, est un des exem...           N/A         N/A  \n",
      "3               On semiotics, fashion and philosophy           3.0         N/A  \n",
      "4  Drawing on ethnographic knowledge to connect t...           N/A         N/A  \n"
     ]
    }
   ],
   "source": [
    "df_combined = pd.concat([df, df_2], ignore_index=True)\n",
    "\n",
    "# Replace all NaN values with \"N/A\"\n",
    "df_combined = df_combined.astype(object)\n",
    "df_combined.fillna(\"N/A\", inplace=True)\n",
    "\n",
    "# Optional: verify\n",
    "print(df_combined.head())"
   ]
  },
  {
   "cell_type": "code",
   "execution_count": 1250,
   "id": "1b98287b-0722-42c2-a0d4-3acba1edd839",
   "metadata": {},
   "outputs": [
    {
     "data": {
      "text/html": [
       "<div>\n",
       "<style scoped>\n",
       "    .dataframe tbody tr th:only-of-type {\n",
       "        vertical-align: middle;\n",
       "    }\n",
       "\n",
       "    .dataframe tbody tr th {\n",
       "        vertical-align: top;\n",
       "    }\n",
       "\n",
       "    .dataframe thead th {\n",
       "        text-align: right;\n",
       "    }\n",
       "</style>\n",
       "<table border=\"1\" class=\"dataframe\">\n",
       "  <thead>\n",
       "    <tr style=\"text-align: right;\">\n",
       "      <th></th>\n",
       "      <th>author</th>\n",
       "      <th>bookformat</th>\n",
       "      <th>desc</th>\n",
       "      <th>genre</th>\n",
       "      <th>img</th>\n",
       "      <th>isbn</th>\n",
       "      <th>isbn13</th>\n",
       "      <th>link</th>\n",
       "      <th>pages</th>\n",
       "      <th>rating</th>\n",
       "      <th>reviews</th>\n",
       "      <th>title</th>\n",
       "      <th>totalratings</th>\n",
       "    </tr>\n",
       "  </thead>\n",
       "  <tbody>\n",
       "    <tr>\n",
       "      <th>0</th>\n",
       "      <td>Laurence M. Hauptman</td>\n",
       "      <td>Hardcover</td>\n",
       "      <td>Reveals that several hundred thousand Indians ...</td>\n",
       "      <td>History,Military History,Civil War,American Hi...</td>\n",
       "      <td>https://i.gr-assets.com/images/S/compressed.ph...</td>\n",
       "      <td>002914180X</td>\n",
       "      <td>9.78E+12</td>\n",
       "      <td>https://goodreads.com/book/show/1001053.Betwee...</td>\n",
       "      <td>0</td>\n",
       "      <td>3.52</td>\n",
       "      <td>5</td>\n",
       "      <td>Between Two Fires: American Indians in the Civ...</td>\n",
       "      <td>33</td>\n",
       "    </tr>\n",
       "    <tr>\n",
       "      <th>1</th>\n",
       "      <td>Charlotte Fiell,Emmanuelle Dirix</td>\n",
       "      <td>Paperback</td>\n",
       "      <td>Fashion Sourcebook - 1920s is the first book i...</td>\n",
       "      <td>Couture,Fashion,Historical,Art,Nonfiction</td>\n",
       "      <td>https://i.gr-assets.com/images/S/compressed.ph...</td>\n",
       "      <td>1906863482</td>\n",
       "      <td>9.78E+12</td>\n",
       "      <td>https://goodreads.com/book/show/10010552-fashi...</td>\n",
       "      <td>576</td>\n",
       "      <td>4.51</td>\n",
       "      <td>6</td>\n",
       "      <td>Fashion Sourcebook 1920s</td>\n",
       "      <td>41</td>\n",
       "    </tr>\n",
       "    <tr>\n",
       "      <th>2</th>\n",
       "      <td>Andy Anderson</td>\n",
       "      <td>Paperback</td>\n",
       "      <td>The seminal history and analysis of the Hungar...</td>\n",
       "      <td>Politics,History</td>\n",
       "      <td>https://i.gr-assets.com/images/S/compressed.ph...</td>\n",
       "      <td>948984147</td>\n",
       "      <td>9.78E+12</td>\n",
       "      <td>https://goodreads.com/book/show/1001077.Hungar...</td>\n",
       "      <td>124</td>\n",
       "      <td>4.15</td>\n",
       "      <td>2</td>\n",
       "      <td>Hungary 56</td>\n",
       "      <td>26</td>\n",
       "    </tr>\n",
       "    <tr>\n",
       "      <th>3</th>\n",
       "      <td>Carlotta R. Anderson</td>\n",
       "      <td>Hardcover</td>\n",
       "      <td>\"All-American Anarchist\" chronicles the life a...</td>\n",
       "      <td>Labor,History</td>\n",
       "      <td>https://i.gr-assets.com/images/S/compressed.ph...</td>\n",
       "      <td>814327079</td>\n",
       "      <td>9.78E+12</td>\n",
       "      <td>https://goodreads.com/book/show/1001079.All_Am...</td>\n",
       "      <td>324</td>\n",
       "      <td>3.83</td>\n",
       "      <td>1</td>\n",
       "      <td>All-American Anarchist: Joseph A. Labadie and ...</td>\n",
       "      <td>6</td>\n",
       "    </tr>\n",
       "    <tr>\n",
       "      <th>4</th>\n",
       "      <td>Jean Leveille</td>\n",
       "      <td>NaN</td>\n",
       "      <td>Aujourdâ€™hui, lâ€™oiseau nous invite Ã  sa ta...</td>\n",
       "      <td>NaN</td>\n",
       "      <td>https://i.gr-assets.com/images/S/compressed.ph...</td>\n",
       "      <td>2761920813</td>\n",
       "      <td>NaN</td>\n",
       "      <td>https://goodreads.com/book/show/10010880-les-o...</td>\n",
       "      <td>177</td>\n",
       "      <td>4.00</td>\n",
       "      <td>1</td>\n",
       "      <td>Les oiseaux gourmands</td>\n",
       "      <td>1</td>\n",
       "    </tr>\n",
       "  </tbody>\n",
       "</table>\n",
       "</div>"
      ],
      "text/plain": [
       "                             author bookformat  \\\n",
       "0              Laurence M. Hauptman  Hardcover   \n",
       "1  Charlotte Fiell,Emmanuelle Dirix  Paperback   \n",
       "2                     Andy Anderson  Paperback   \n",
       "3              Carlotta R. Anderson  Hardcover   \n",
       "4                     Jean Leveille        NaN   \n",
       "\n",
       "                                                desc  \\\n",
       "0  Reveals that several hundred thousand Indians ...   \n",
       "1  Fashion Sourcebook - 1920s is the first book i...   \n",
       "2  The seminal history and analysis of the Hungar...   \n",
       "3  \"All-American Anarchist\" chronicles the life a...   \n",
       "4  Aujourdâ€™hui, lâ€™oiseau nous invite Ã  sa ta...   \n",
       "\n",
       "                                               genre  \\\n",
       "0  History,Military History,Civil War,American Hi...   \n",
       "1          Couture,Fashion,Historical,Art,Nonfiction   \n",
       "2                                   Politics,History   \n",
       "3                                      Labor,History   \n",
       "4                                                NaN   \n",
       "\n",
       "                                                 img        isbn    isbn13  \\\n",
       "0  https://i.gr-assets.com/images/S/compressed.ph...  002914180X  9.78E+12   \n",
       "1  https://i.gr-assets.com/images/S/compressed.ph...  1906863482  9.78E+12   \n",
       "2  https://i.gr-assets.com/images/S/compressed.ph...   948984147  9.78E+12   \n",
       "3  https://i.gr-assets.com/images/S/compressed.ph...   814327079  9.78E+12   \n",
       "4  https://i.gr-assets.com/images/S/compressed.ph...  2761920813       NaN   \n",
       "\n",
       "                                                link  pages  rating  reviews  \\\n",
       "0  https://goodreads.com/book/show/1001053.Betwee...      0    3.52        5   \n",
       "1  https://goodreads.com/book/show/10010552-fashi...    576    4.51        6   \n",
       "2  https://goodreads.com/book/show/1001077.Hungar...    124    4.15        2   \n",
       "3  https://goodreads.com/book/show/1001079.All_Am...    324    3.83        1   \n",
       "4  https://goodreads.com/book/show/10010880-les-o...    177    4.00        1   \n",
       "\n",
       "                                               title  totalratings  \n",
       "0  Between Two Fires: American Indians in the Civ...            33  \n",
       "1                           Fashion Sourcebook 1920s            41  \n",
       "2                                         Hungary 56            26  \n",
       "3  All-American Anarchist: Joseph A. Labadie and ...             6  \n",
       "4                              Les oiseaux gourmands             1  "
      ]
     },
     "execution_count": 1250,
     "metadata": {},
     "output_type": "execute_result"
    }
   ],
   "source": [
    "# Kaggle Dataset(https://www.kaggle.com/datasets/mdhamani/goodreads-books-100k) - Resource #3\n",
    "df_3 = pd.read_csv(\"GoodReads_100k_books.csv\")\n",
    "df_3.head()"
   ]
  },
  {
   "cell_type": "code",
   "execution_count": 1252,
   "id": "68f20870-90d4-482f-8dc7-342a1bca94dc",
   "metadata": {},
   "outputs": [
    {
     "name": "stdout",
     "output_type": "stream",
     "text": [
      "                title authors categories description averageRating\n",
      "0     Operette Morali   [N/A]      [N/A]         N/A           N/A\n",
      "1     Feeding the Eye   [N/A]      [N/A]         N/A           N/A\n",
      "2  Système de la mode   [N/A]      [N/A]         N/A           N/A\n",
      "3  The Fashion System   [N/A]      [N/A]         N/A           N/A\n",
      "4   Consuming Fashion   [N/A]      [N/A]         N/A           N/A\n"
     ]
    }
   ],
   "source": [
    "# Function to convert any value to list or default\n",
    "def to_list_or_na(x):\n",
    "    if pd.isnull(x):\n",
    "        return [\"N/A\"]\n",
    "    elif isinstance(x, list):\n",
    "        return x\n",
    "    else:\n",
    "        # If string, split by comma\n",
    "        return [a.strip() for a in str(x).split(\",\")]\n",
    "\n",
    "# Map and fill missing values\n",
    "df_3 = pd.DataFrame({\n",
    "     \"title\": df.get(\"title\", pd.Series([\"N/A\"]*len(df))).fillna(\"N/A\"),\n",
    "    \"authors\": df.get(\"author\", pd.Series([\"N/A\"]*len(df))).apply(to_list_or_na),\n",
    "    \"categories\": df.get(\"genre\", pd.Series([\"N/A\"]*len(df))).apply(to_list_or_na),\n",
    "    \"description\": df.get(\"desc\", pd.Series([\"N/A\"]*len(df))).fillna(\"N/A\"),\n",
    "    \"averageRating\": df.get(\"rating\", pd.Series([\"N/A\"]*len(df))).fillna(\"N/A\"),\n",
    "})\n",
    "\n",
    "\n",
    "# Preview\n",
    "print(df_3.head())"
   ]
  },
  {
   "cell_type": "code",
   "execution_count": 1208,
   "id": "601d8e5e-4dc4-4980-a2e3-c7c8281030ad",
   "metadata": {},
   "outputs": [
    {
     "name": "stdout",
     "output_type": "stream",
     "text": [
      "                title                            authors publishedDate  \\\n",
      "0     Operette Morali               ['Giacomo Leopardi']    1983-12-09   \n",
      "1     Feeding the Eye                 ['Anne Hollander']    2000-10-02   \n",
      "2  Système de la mode                 ['Roland Barthes']          1983   \n",
      "3  The Fashion System                 ['Roland Barthes']    1990-07-25   \n",
      "4   Consuming Fashion  ['Anne Brydon', 'Sandra Niessen']       1998-09   \n",
      "\n",
      "                 categories  \\\n",
      "0  ['Literary Collections']   \n",
      "1                   ['Art']   \n",
      "2    ['Clothing and dress']   \n",
      "3                ['Design']   \n",
      "4                ['Design']   \n",
      "\n",
      "                                         description averageRating  \\\n",
      "0  This series is conceived as a library of bilin...           N/A   \n",
      "1  \"Only a learned and daring intelligence could ...           N/A   \n",
      "2  Ce livre, devenu un classique, est un des exem...           N/A   \n",
      "3               On semiotics, fashion and philosophy           3.0   \n",
      "4  Drawing on ethnographic knowledge to connect t...           N/A   \n",
      "\n",
      "  textSnippet rating  \n",
      "0         N/A    N/A  \n",
      "1         N/A    N/A  \n",
      "2         N/A    N/A  \n",
      "3         N/A    N/A  \n",
      "4         N/A    N/A  \n"
     ]
    }
   ],
   "source": [
    "df_combined = pd.concat([df_combined, df_3], ignore_index=True)\n",
    "\n",
    "# Replace all NaN values with \"N/A\"\n",
    "df_combined = df_combined.astype(object)\n",
    "df_combined.fillna(\"N/A\", inplace=True)\n",
    "\n",
    "# Optional: verify\n",
    "print(df_combined.head())"
   ]
  },
  {
   "cell_type": "code",
   "execution_count": 1180,
   "id": "32020798-9e85-42d8-bd55-4a87add4fce2",
   "metadata": {},
   "outputs": [],
   "source": [
    "df_combined.to_csv(\"total_df.csv\", index=False)\n"
   ]
  },
  {
   "cell_type": "code",
   "execution_count": 1210,
   "id": "8f184a68-9c5c-437a-b7bb-7df424068a53",
   "metadata": {},
   "outputs": [
    {
     "name": "stdout",
     "output_type": "stream",
     "text": [
      "Before removing duplicates: 85566 rows\n",
      "After removing duplicates: 51192 rows\n"
     ]
    },
    {
     "name": "stderr",
     "output_type": "stream",
     "text": [
      "/var/folders/gs/rm1mjp5x5ybc93h8m4xwbfyr0000gn/T/ipykernel_40721/1846533067.py:2: DtypeWarning: Columns (2,4) have mixed types. Specify dtype option on import or set low_memory=False.\n",
      "  df = pd.read_csv(\"total_df.csv\")\n"
     ]
    }
   ],
   "source": [
    "# Load your dataset\n",
    "df = pd.read_csv(\"total_df.csv\")\n",
    "\n",
    "# Drop duplicates by both title and authors\n",
    "df_clean = df.drop_duplicates(subset=[\"title\", \"authors\"], keep=\"first\")\n",
    "\n",
    "print(f\"Before removing duplicates: {len(df)} rows\")\n",
    "print(f\"After removing duplicates: {len(df_clean)} rows\")"
   ]
  },
  {
   "cell_type": "code",
   "execution_count": 1212,
   "id": "5d02162f-d063-4ad1-8e79-96bbad5519c5",
   "metadata": {},
   "outputs": [
    {
     "data": {
      "text/html": [
       "<div>\n",
       "<style scoped>\n",
       "    .dataframe tbody tr th:only-of-type {\n",
       "        vertical-align: middle;\n",
       "    }\n",
       "\n",
       "    .dataframe tbody tr th {\n",
       "        vertical-align: top;\n",
       "    }\n",
       "\n",
       "    .dataframe thead th {\n",
       "        text-align: right;\n",
       "    }\n",
       "</style>\n",
       "<table border=\"1\" class=\"dataframe\">\n",
       "  <thead>\n",
       "    <tr style=\"text-align: right;\">\n",
       "      <th></th>\n",
       "      <th>title</th>\n",
       "      <th>authors</th>\n",
       "      <th>publishedDate</th>\n",
       "      <th>categories</th>\n",
       "      <th>description</th>\n",
       "      <th>averageRating</th>\n",
       "      <th>textSnippet</th>\n",
       "      <th>rating</th>\n",
       "    </tr>\n",
       "  </thead>\n",
       "  <tbody>\n",
       "    <tr>\n",
       "      <th>0</th>\n",
       "      <td>Operette Morali</td>\n",
       "      <td>['Giacomo Leopardi']</td>\n",
       "      <td>1983-12-09</td>\n",
       "      <td>['Literary Collections']</td>\n",
       "      <td>This series is conceived as a library of bilin...</td>\n",
       "      <td>NaN</td>\n",
       "      <td>NaN</td>\n",
       "      <td>NaN</td>\n",
       "    </tr>\n",
       "    <tr>\n",
       "      <th>1</th>\n",
       "      <td>Feeding the Eye</td>\n",
       "      <td>['Anne Hollander']</td>\n",
       "      <td>2000-10-02</td>\n",
       "      <td>['Art']</td>\n",
       "      <td>\"Only a learned and daring intelligence could ...</td>\n",
       "      <td>NaN</td>\n",
       "      <td>NaN</td>\n",
       "      <td>NaN</td>\n",
       "    </tr>\n",
       "    <tr>\n",
       "      <th>2</th>\n",
       "      <td>Système de la mode</td>\n",
       "      <td>['Roland Barthes']</td>\n",
       "      <td>1983</td>\n",
       "      <td>['Clothing and dress']</td>\n",
       "      <td>Ce livre, devenu un classique, est un des exem...</td>\n",
       "      <td>NaN</td>\n",
       "      <td>NaN</td>\n",
       "      <td>NaN</td>\n",
       "    </tr>\n",
       "    <tr>\n",
       "      <th>3</th>\n",
       "      <td>The Fashion System</td>\n",
       "      <td>['Roland Barthes']</td>\n",
       "      <td>1990-07-25</td>\n",
       "      <td>['Design']</td>\n",
       "      <td>On semiotics, fashion and philosophy</td>\n",
       "      <td>3.0</td>\n",
       "      <td>NaN</td>\n",
       "      <td>NaN</td>\n",
       "    </tr>\n",
       "    <tr>\n",
       "      <th>4</th>\n",
       "      <td>Consuming Fashion</td>\n",
       "      <td>['Anne Brydon', 'Sandra Niessen']</td>\n",
       "      <td>1998-09</td>\n",
       "      <td>['Design']</td>\n",
       "      <td>Drawing on ethnographic knowledge to connect t...</td>\n",
       "      <td>NaN</td>\n",
       "      <td>NaN</td>\n",
       "      <td>NaN</td>\n",
       "    </tr>\n",
       "  </tbody>\n",
       "</table>\n",
       "</div>"
      ],
      "text/plain": [
       "                title                            authors publishedDate  \\\n",
       "0     Operette Morali               ['Giacomo Leopardi']    1983-12-09   \n",
       "1     Feeding the Eye                 ['Anne Hollander']    2000-10-02   \n",
       "2  Système de la mode                 ['Roland Barthes']          1983   \n",
       "3  The Fashion System                 ['Roland Barthes']    1990-07-25   \n",
       "4   Consuming Fashion  ['Anne Brydon', 'Sandra Niessen']       1998-09   \n",
       "\n",
       "                 categories  \\\n",
       "0  ['Literary Collections']   \n",
       "1                   ['Art']   \n",
       "2    ['Clothing and dress']   \n",
       "3                ['Design']   \n",
       "4                ['Design']   \n",
       "\n",
       "                                         description  averageRating  \\\n",
       "0  This series is conceived as a library of bilin...            NaN   \n",
       "1  \"Only a learned and daring intelligence could ...            NaN   \n",
       "2  Ce livre, devenu un classique, est un des exem...            NaN   \n",
       "3               On semiotics, fashion and philosophy            3.0   \n",
       "4  Drawing on ethnographic knowledge to connect t...            NaN   \n",
       "\n",
       "   textSnippet  rating  \n",
       "0          NaN     NaN  \n",
       "1          NaN     NaN  \n",
       "2          NaN     NaN  \n",
       "3          NaN     NaN  \n",
       "4          NaN     NaN  "
      ]
     },
     "execution_count": 1212,
     "metadata": {},
     "output_type": "execute_result"
    }
   ],
   "source": [
    "# view data\n",
    "df_clean.head()"
   ]
  },
  {
   "cell_type": "code",
   "execution_count": 1232,
   "id": "13a99070-67bb-4415-94bf-b58a5cae3073",
   "metadata": {},
   "outputs": [
    {
     "name": "stdout",
     "output_type": "stream",
     "text": [
      "'languages' column does not exist.\n"
     ]
    }
   ],
   "source": [
    "# Keep English Language only books for Capstone (simplicity in reviewing)\n",
    "if \"languages\" in df_clean.columns:\n",
    "    # Filter rows where 'languages' contains 'eng'\n",
    "    df_en = df_clean[df_clean[\"languages\"].apply(lambda x: \"eng\" in x if isinstance(x, list) else False)]\n",
    "else:\n",
    "    print(\"'languages' column does not exist.\")\n",
    "    df_en = df_clean.copy()  # fallback: keep all rows"
   ]
  },
  {
   "cell_type": "code",
   "execution_count": 1234,
   "id": "a28af095-0396-4a32-a0fc-8c07d5ece598",
   "metadata": {},
   "outputs": [],
   "source": [
    "# Normalize symbols in text\n",
    "def clean_text(x):\n",
    "    if not isinstance(x, str):\n",
    "        return x\n",
    "    x = x.strip().lower()\n",
    "    x = re.sub(r'\\s+', ' ', x)\n",
    "    x = re.sub(r'[^\\w\\s.,!?\\'\"-]', '', x)\n",
    "    return x\n",
    "\n",
    "# Apply cleaning safely\n",
    "df_clean.loc[:, \"title\"] = df_clean[\"title\"].apply(clean_text)\n",
    "df_clean.loc[:, \"description\"] = df_clean[\"description\"].apply(clean_text)\n",
    "df_clean.loc[:, \"categories\"] = df_clean[\"categories\"].apply(\n",
    "    lambda x: [c.strip().lower() for c in x] if isinstance(x, list) else x\n",
    ")"
   ]
  },
  {
   "cell_type": "code",
   "execution_count": 1236,
   "id": "e1d0d5dd-e244-4c75-bfa0-a69a753cebc9",
   "metadata": {},
   "outputs": [],
   "source": [
    "# Normalize authors and Categories (currently list)\n",
    "def normalize_list(x):\n",
    "    if isinstance(x, list):\n",
    "        return x\n",
    "    # If NaN or empty, return [\"N/A\"]\n",
    "    if pd.isnull(x) or x == \"\":\n",
    "        return [\"N/A\"]\n",
    "    # If a string that looks like a list: \"[1, 2, 3]\"\n",
    "    try:\n",
    "        parsed = ast.literal_eval(x)\n",
    "        if isinstance(parsed, list):\n",
    "            return parsed\n",
    "    except:\n",
    "        pass\n",
    "    # If comma-separated string: \"1,2,3\"\n",
    "    return [item.strip() for item in str(x).split(\",\")]\n",
    "\n",
    "df_clean = df_clean.copy()  # now it’s independent\n",
    "df_clean[\"authors\"] = df_clean[\"authors\"].apply(normalize_list)\n",
    "df_clean[\"categories\"] = df_clean[\"categories\"].apply(normalize_list)\n"
   ]
  },
  {
   "cell_type": "code",
   "execution_count": 1238,
   "id": "abe6f3bc-419d-42b5-9594-abebb7e49b95",
   "metadata": {},
   "outputs": [
    {
     "name": "stdout",
     "output_type": "stream",
     "text": [
      "27318\n"
     ]
    }
   ],
   "source": [
    "# Keep only meaningful descriptions and titles\n",
    "df_clean = df_clean[df_clean[\"title\"].str.len() > 2]\n",
    "df_clean = df_clean[df_clean[\"description\"].str.len() > 30]\n",
    "\n",
    "print(len(df_clean))"
   ]
  },
  {
   "cell_type": "code",
   "execution_count": 1240,
   "id": "1f1314c5-b144-4fe7-b51d-e96001f387a1",
   "metadata": {},
   "outputs": [
    {
     "data": {
      "text/plain": [
       "count                                                 27318\n",
       "unique                                                 8876\n",
       "top       this work has been selected by scholars as bei...\n",
       "freq                                                    120\n",
       "Name: description, dtype: object"
      ]
     },
     "execution_count": 1240,
     "metadata": {},
     "output_type": "execute_result"
    }
   ],
   "source": [
    "df_clean[\"description\"].describe()"
   ]
  },
  {
   "cell_type": "code",
   "execution_count": 1242,
   "id": "433df8d8-d065-494f-b4ee-f44b1df09111",
   "metadata": {},
   "outputs": [
    {
     "data": {
      "text/plain": [
       "count             27318\n",
       "unique             2682\n",
       "top       [['fiction']]\n",
       "freq               1571\n",
       "Name: categories, dtype: object"
      ]
     },
     "execution_count": 1242,
     "metadata": {},
     "output_type": "execute_result"
    }
   ],
   "source": [
    "df_clean[\"categories\"].describe()"
   ]
  },
  {
   "cell_type": "code",
   "execution_count": 1244,
   "id": "72215772-cbce-4b2c-b469-c4b558bfa1fc",
   "metadata": {},
   "outputs": [],
   "source": [
    "# Save copy of cleaned csv\n",
    "df_clean.to_csv(\"books_cleaned.csv\", index=False)"
   ]
  },
  {
   "cell_type": "code",
   "execution_count": 1246,
   "id": "9eaefb57-6309-4dfc-8587-fd4cc7743689",
   "metadata": {},
   "outputs": [
    {
     "name": "stdout",
     "output_type": "stream",
     "text": [
      "<class 'pandas.core.frame.DataFrame'>\n",
      "Index: 27318 entries, 0 to 57043\n",
      "Data columns (total 8 columns):\n",
      " #   Column         Non-Null Count  Dtype  \n",
      "---  ------         --------------  -----  \n",
      " 0   title          27318 non-null  object \n",
      " 1   authors        27318 non-null  object \n",
      " 2   publishedDate  9086 non-null   object \n",
      " 3   categories     27318 non-null  object \n",
      " 4   description    27318 non-null  object \n",
      " 5   averageRating  956 non-null    float64\n",
      " 6   textSnippet    0 non-null      float64\n",
      " 7   rating         0 non-null      float64\n",
      "dtypes: float64(3), object(5)\n",
      "memory usage: 1.9+ MB\n",
      "None\n"
     ]
    }
   ],
   "source": [
    "print(df_clean.info())"
   ]
  },
  {
   "cell_type": "code",
   "execution_count": 1248,
   "id": "9d72651d-342b-4ed2-b3ad-0ef65a9e5996",
   "metadata": {},
   "outputs": [
    {
     "name": "stdout",
     "output_type": "stream",
     "text": [
      "                            title                                 authors  \\\n",
      "21979      the road to lilyfields                      [['Lottie Bloom']]   \n",
      "15566             gerhard richter  [['Stefan Gronert', 'Hubertus Butin']]   \n",
      "47864     the secret of childhood              [[\"['Maria Montessori']\"]]   \n",
      "8175   handbook of sleep medicine        [Alon Y. Avidan, Phyllis C. Zee]   \n",
      "8851            a cast of falcons                         [Steve Burrows]   \n",
      "\n",
      "      publishedDate           categories  \\\n",
      "21979           NaN                 [[]]   \n",
      "15566           NaN            [['art']]   \n",
      "47864           NaN  [[\"['education']\"]]   \n",
      "8175           2011            [medical]   \n",
      "8851     2016-05-07            [fiction]   \n",
      "\n",
      "                                             description  averageRating  \\\n",
      "21979  a gripping contemporary romance of love agains...            NaN   \n",
      "15566  this book demonstrates how richter pursues the...            NaN   \n",
      "47864  dr montessori s revolutionary method of educat...            NaN   \n",
      "8175   \"the handbook offers practical and easily refe...            NaN   \n",
      "8851   the threat from above casts a dark shadow. a m...            NaN   \n",
      "\n",
      "       textSnippet  rating  \n",
      "21979          NaN     NaN  \n",
      "15566          NaN     NaN  \n",
      "47864          NaN     NaN  \n",
      "8175           NaN     NaN  \n",
      "8851           NaN     NaN  \n"
     ]
    }
   ],
   "source": [
    "print(df_clean.sample(5))"
   ]
  },
  {
   "cell_type": "code",
   "execution_count": 1230,
   "id": "7d015586-ea8e-4e17-884e-6921817e132f",
   "metadata": {},
   "outputs": [
    {
     "name": "stdout",
     "output_type": "stream",
     "text": [
      "       averageRating  textSnippet  rating\n",
      "count     956.000000          0.0     0.0\n",
      "mean        4.172071          NaN     NaN\n",
      "std         1.019673          NaN     NaN\n",
      "min         1.000000          NaN     NaN\n",
      "25%         4.000000          NaN     NaN\n",
      "50%         4.500000          NaN     NaN\n",
      "75%         5.000000          NaN     NaN\n",
      "max         5.000000          NaN     NaN\n"
     ]
    }
   ],
   "source": [
    "print(df_clean.describe())"
   ]
  },
  {
   "cell_type": "code",
   "execution_count": null,
   "id": "1b4dd71e-28d2-4f73-9d36-e5aad8ce31f1",
   "metadata": {},
   "outputs": [],
   "source": []
  }
 ],
 "metadata": {
  "kernelspec": {
   "display_name": "Python [conda env:base] *",
   "language": "python",
   "name": "conda-base-py"
  },
  "language_info": {
   "codemirror_mode": {
    "name": "ipython",
    "version": 3
   },
   "file_extension": ".py",
   "mimetype": "text/x-python",
   "name": "python",
   "nbconvert_exporter": "python",
   "pygments_lexer": "ipython3",
   "version": "3.12.7"
  }
 },
 "nbformat": 4,
 "nbformat_minor": 5
}
